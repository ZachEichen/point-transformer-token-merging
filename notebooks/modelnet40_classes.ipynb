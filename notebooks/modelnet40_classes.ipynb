{
 "cells": [
  {
   "cell_type": "code",
   "execution_count": 30,
   "metadata": {},
   "outputs": [],
   "source": [
    "import os\n",
    "from collections import Counter"
   ]
  },
  {
   "cell_type": "code",
   "execution_count": 31,
   "metadata": {},
   "outputs": [
    {
     "name": "stdout",
     "output_type": "stream",
     "text": [
      "['airplane', 'bathtub', 'bed', 'bench', 'bookshelf', 'bottle', 'bowl', 'car', 'chair', 'cone', 'cup', 'curtain', 'desk', 'door', 'dresser', 'flower_pot', 'glass_box', 'guitar', 'keyboard', 'lamp', 'laptop', 'mantel', 'monitor', 'night_stand', 'person', 'piano', 'plant', 'radio', 'range_hood', 'sink', 'sofa', 'stairs', 'stool', 'table', 'tent', 'toilet', 'tv_stand', 'vase', 'wardrobe', 'xbox']\n"
     ]
    }
   ],
   "source": [
    "root_dir = \"../data/modelnet40/\"\n",
    "folders = [dir for dir in sorted(os.listdir(root_dir)) if os.path.isdir(os.path.join(root_dir, dir))]\n",
    "print(folders)"
   ]
  },
  {
   "cell_type": "code",
   "execution_count": 32,
   "metadata": {},
   "outputs": [],
   "source": [
    "folder_freq = dict()\n",
    "for folder in folders:\n",
    "    folder_freq[folder] = len(os.listdir(os.path.join(root_dir, folder, \"train\")))\n"
   ]
  },
  {
   "cell_type": "code",
   "execution_count": 33,
   "metadata": {},
   "outputs": [
    {
     "data": {
      "text/plain": [
       "[('chair', 889),\n",
       " ('sofa', 680),\n",
       " ('airplane', 626),\n",
       " ('bookshelf', 572),\n",
       " ('bed', 515),\n",
       " ('monitor', 465),\n",
       " ('bottle', 335),\n",
       " ('mantel', 284),\n",
       " ('table', 247),\n",
       " ('plant', 240)]"
      ]
     },
     "execution_count": 33,
     "metadata": {},
     "output_type": "execute_result"
    }
   ],
   "source": [
    "k = 10\n",
    "top_k = Counter(folder_freq).most_common(k)\n",
    "top_k"
   ]
  },
  {
   "cell_type": "code",
   "execution_count": 34,
   "metadata": {},
   "outputs": [
    {
     "name": "stdout",
     "output_type": "stream",
     "text": [
      "['chair', 'sofa', 'airplane', 'bookshelf', 'bed', 'monitor', 'bottle', 'mantel', 'table', 'plant']\n"
     ]
    }
   ],
   "source": [
    "top_k_classes = [p[0] for p in top_k]\n",
    "print(top_k_classes)"
   ]
  }
 ],
 "metadata": {
  "kernelspec": {
   "display_name": "sys_genai",
   "language": "python",
   "name": "python3"
  },
  "language_info": {
   "codemirror_mode": {
    "name": "ipython",
    "version": 3
   },
   "file_extension": ".py",
   "mimetype": "text/x-python",
   "name": "python",
   "nbconvert_exporter": "python",
   "pygments_lexer": "ipython3",
   "version": "3.9.12"
  },
  "orig_nbformat": 4
 },
 "nbformat": 4,
 "nbformat_minor": 2
}
