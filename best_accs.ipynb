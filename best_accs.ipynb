{
 "cells": [
  {
   "cell_type": "code",
   "execution_count": 48,
   "metadata": {},
   "outputs": [],
   "source": [
    "import os\n",
    "import pandas as pd\n",
    "import sys\n",
    "import numpy as np\n",
    "import seaborn as sns"
   ]
  },
  {
   "cell_type": "code",
   "execution_count": 2,
   "metadata": {},
   "outputs": [
    {
     "name": "stdout",
     "output_type": "stream",
     "text": [
      "0.8946731234866828\n",
      "0.8595641646489104\n",
      "0.851089588377724\n",
      "0.837772397094431\n"
     ]
    }
   ],
   "source": [
    "for i in range(1, 5):\n",
    "    fp = os.path.join(\"outputs/test\", str(i), \"progress.csv\")\n",
    "    df = pd.read_csv(fp)\n",
    "    print(max(df[\"V_Accuracy\"]))"
   ]
  },
  {
   "cell_type": "code",
   "execution_count": 4,
   "metadata": {},
   "outputs": [
    {
     "ename": "ModuleNotFoundError",
     "evalue": "No module named 'fps_knn_pct'",
     "output_type": "error",
     "traceback": [
      "\u001b[0;31m---------------------------------------------------------------------------\u001b[0m",
      "\u001b[0;31mModuleNotFoundError\u001b[0m                       Traceback (most recent call last)",
      "Cell \u001b[0;32mIn[4], line 2\u001b[0m\n\u001b[1;32m      1\u001b[0m \u001b[39mfrom\u001b[39;00m \u001b[39msrc\u001b[39;00m\u001b[39m.\u001b[39;00m\u001b[39mtrain\u001b[39;00m\u001b[39m.\u001b[39;00m\u001b[39mconfig\u001b[39;00m \u001b[39mimport\u001b[39;00m Config \u001b[39mas\u001b[39;00m ModelConfig\n\u001b[0;32m----> 2\u001b[0m \u001b[39mfrom\u001b[39;00m \u001b[39msrc\u001b[39;00m\u001b[39m.\u001b[39;00m\u001b[39mmodels\u001b[39;00m\u001b[39m.\u001b[39;00m\u001b[39mpct\u001b[39;00m\u001b[39m.\u001b[39;00m\u001b[39mpoint_transformer_cls\u001b[39;00m \u001b[39mimport\u001b[39;00m get_model \u001b[39mas\u001b[39;00m get_pct, get_loss \u001b[39mas\u001b[39;00m get_pct_loss\n\u001b[1;32m      3\u001b[0m \u001b[39mfrom\u001b[39;00m \u001b[39msrc\u001b[39;00m\u001b[39m.\u001b[39;00m\u001b[39mmodels\u001b[39;00m\u001b[39m.\u001b[39;00m\u001b[39mpt\u001b[39;00m\u001b[39m.\u001b[39;00m\u001b[39mmodel\u001b[39;00m \u001b[39mimport\u001b[39;00m get_model \u001b[39mas\u001b[39;00m get_pt, get_loss \u001b[39mas\u001b[39;00m get_pt_loss\n\u001b[1;32m      6\u001b[0m \u001b[39mdef\u001b[39;00m \u001b[39mget_model\u001b[39m(model_name, method, num_points, num_class, input_dim, init_hidden_dim, k, device):\n",
      "File \u001b[0;32m~/Documents/point-transformer-cardinality-reduction/src/models/pct/point_transformer_cls.py:5\u001b[0m\n\u001b[1;32m      3\u001b[0m \u001b[39mimport\u001b[39;00m \u001b[39mtorch\u001b[39;00m\n\u001b[1;32m      4\u001b[0m \u001b[39mimport\u001b[39;00m \u001b[39mtorch\u001b[39;00m\u001b[39m.\u001b[39;00m\u001b[39mnn\u001b[39;00m \u001b[39mas\u001b[39;00m \u001b[39mnn\u001b[39;00m\n\u001b[0;32m----> 5\u001b[0m \u001b[39mfrom\u001b[39;00m \u001b[39mfps_knn_pct\u001b[39;00m \u001b[39mimport\u001b[39;00m FPS_KNN_PCT\n\u001b[1;32m      6\u001b[0m \u001b[39mimport\u001b[39;00m \u001b[39msys\u001b[39;00m\n\u001b[1;32m      7\u001b[0m \u001b[39mimport\u001b[39;00m \u001b[39mnumpy\u001b[39;00m \u001b[39mas\u001b[39;00m \u001b[39mnp\u001b[39;00m\n",
      "\u001b[0;31mModuleNotFoundError\u001b[0m: No module named 'fps_knn_pct'"
     ]
    }
   ],
   "source": [
    "from src.train.config import Config as ModelConfig\n",
    "from src.models.pct.point_transformer_cls import get_model as get_pct, get_loss as get_pct_loss\n",
    "from src.models.pt.model import get_model as get_pt, get_loss as get_pt_loss\n",
    "\n",
    "\n",
    "def get_model(model_name, method, num_points, num_class, input_dim, init_hidden_dim, k, device):\n",
    "    model_config = ModelConfig(method, num_points, num_class, input_dim, init_hidden_dim, k)\n",
    "    if model_name == \"pct\":\n",
    "        model = get_pct(model_config).float().to(device)\n",
    "        loss_fn = get_pct_loss()\n",
    "    elif model_name == \"pt\":\n",
    "        model = get_pt(model_config).float().to(device)\n",
    "        loss_fn = get_pt_loss()\n",
    "    else:\n",
    "        raise ValueError(f\"The provided model_name is not supported: {model_name}\")\n",
    "    \n",
    "    return model, loss_fn"
   ]
  },
  {
   "cell_type": "code",
   "execution_count": 30,
   "metadata": {},
   "outputs": [
    {
     "name": "stdout",
     "output_type": "stream",
     "text": [
      "Warning: parameters of some of the modules were counted twice because of multiple links to the same modules. Extended per layer parameters num statistic could be unreliable.\n",
      "PCT(\n",
      "  2.82 M, 102.381% Params, 557.79 MMac, 99.836% MACs, \n",
      "  (conv1): Conv1d(192, 0.007% Params, 196.61 KMac, 0.035% MACs, 3, 64, kernel_size=(1,), stride=(1,), bias=False)\n",
      "  (conv2): Conv1d(4.1 k, 0.149% Params, 4.19 MMac, 0.751% MACs, 64, 64, kernel_size=(1,), stride=(1,), bias=False)\n",
      "  (bn1): BatchNorm1d(128, 0.005% Params, 131.07 KMac, 0.023% MACs, 64, eps=1e-05, momentum=0.1, affine=True, track_running_stats=True)\n",
      "  (bn2): BatchNorm1d(128, 0.005% Params, 131.07 KMac, 0.023% MACs, 64, eps=1e-05, momentum=0.1, affine=True, track_running_stats=True)\n",
      "  (random_subsample1): Random_Subsample_Feature(\n",
      "    8.45 k, 0.307% Params, 4.39 MMac, 0.786% MACs, \n",
      "    (conv): Conv1d(8.19 k, 0.298% Params, 4.19 MMac, 0.751% MACs, 64, 128, kernel_size=(1,), stride=(1,), bias=False)\n",
      "    (bn): BatchNorm1d(256, 0.009% Params, 131.07 KMac, 0.023% MACs, 128, eps=1e-05, momentum=0.1, affine=True, track_running_stats=True)\n",
      "    (relu): ReLU(0, 0.000% Params, 65.54 KMac, 0.012% MACs, )\n",
      "  )\n",
      "  (random_subsample2): Random_Subsample_Feature(\n",
      "    33.28 k, 1.209% Params, 8.59 MMac, 1.537% MACs, \n",
      "    (conv): Conv1d(32.77 k, 1.190% Params, 8.39 MMac, 1.501% MACs, 128, 256, kernel_size=(1,), stride=(1,), bias=False)\n",
      "    (bn): BatchNorm1d(512, 0.019% Params, 131.07 KMac, 0.023% MACs, 256, eps=1e-05, momentum=0.1, affine=True, track_running_stats=True)\n",
      "    (relu): ReLU(0, 0.000% Params, 65.54 KMac, 0.012% MACs, )\n",
      "  )\n",
      "  (pt_last): StackedAttention(\n",
      "    791.55 k, 28.758% Params, 203.03 MMac, 36.339% MACs, \n",
      "    (conv1): Conv1d(65.54 k, 2.381% Params, 16.78 MMac, 3.003% MACs, 256, 256, kernel_size=(1,), stride=(1,), bias=False)\n",
      "    (conv2): Conv1d(65.54 k, 2.381% Params, 16.78 MMac, 3.003% MACs, 256, 256, kernel_size=(1,), stride=(1,), bias=False)\n",
      "    (bn1): BatchNorm1d(512, 0.019% Params, 131.07 KMac, 0.023% MACs, 256, eps=1e-05, momentum=0.1, affine=True, track_running_stats=True)\n",
      "    (bn2): BatchNorm1d(512, 0.019% Params, 131.07 KMac, 0.023% MACs, 256, eps=1e-05, momentum=0.1, affine=True, track_running_stats=True)\n",
      "    (sa1): SA_Layer(\n",
      "      164.86 k, 5.990% Params, 42.27 MMac, 7.566% MACs, \n",
      "      (q_conv): Conv1d(16.38 k, 0.595% Params, 4.19 MMac, 0.751% MACs, 256, 64, kernel_size=(1,), stride=(1,), bias=False)\n",
      "      (k_conv): Conv1d(16.38 k, 0.595% Params, 4.19 MMac, 0.751% MACs, 256, 64, kernel_size=(1,), stride=(1,), bias=False)\n",
      "      (v_conv): Conv1d(65.79 k, 2.390% Params, 16.84 MMac, 3.015% MACs, 256, 256, kernel_size=(1,), stride=(1,))\n",
      "      (trans_conv): Conv1d(65.79 k, 2.390% Params, 16.84 MMac, 3.015% MACs, 256, 256, kernel_size=(1,), stride=(1,))\n",
      "      (after_norm): BatchNorm1d(512, 0.019% Params, 131.07 KMac, 0.023% MACs, 256, eps=1e-05, momentum=0.1, affine=True, track_running_stats=True)\n",
      "      (act): ReLU(0, 0.000% Params, 65.54 KMac, 0.012% MACs, )\n",
      "      (softmax): Softmax(0, 0.000% Params, 0.0 Mac, 0.000% MACs, dim=-1)\n",
      "    )\n",
      "    (sa2): SA_Layer(\n",
      "      164.86 k, 5.990% Params, 42.27 MMac, 7.566% MACs, \n",
      "      (q_conv): Conv1d(16.38 k, 0.595% Params, 4.19 MMac, 0.751% MACs, 256, 64, kernel_size=(1,), stride=(1,), bias=False)\n",
      "      (k_conv): Conv1d(16.38 k, 0.595% Params, 4.19 MMac, 0.751% MACs, 256, 64, kernel_size=(1,), stride=(1,), bias=False)\n",
      "      (v_conv): Conv1d(65.79 k, 2.390% Params, 16.84 MMac, 3.015% MACs, 256, 256, kernel_size=(1,), stride=(1,))\n",
      "      (trans_conv): Conv1d(65.79 k, 2.390% Params, 16.84 MMac, 3.015% MACs, 256, 256, kernel_size=(1,), stride=(1,))\n",
      "      (after_norm): BatchNorm1d(512, 0.019% Params, 131.07 KMac, 0.023% MACs, 256, eps=1e-05, momentum=0.1, affine=True, track_running_stats=True)\n",
      "      (act): ReLU(0, 0.000% Params, 65.54 KMac, 0.012% MACs, )\n",
      "      (softmax): Softmax(0, 0.000% Params, 0.0 Mac, 0.000% MACs, dim=-1)\n",
      "    )\n",
      "    (sa3): SA_Layer(\n",
      "      164.86 k, 5.990% Params, 42.27 MMac, 7.566% MACs, \n",
      "      (q_conv): Conv1d(16.38 k, 0.595% Params, 4.19 MMac, 0.751% MACs, 256, 64, kernel_size=(1,), stride=(1,), bias=False)\n",
      "      (k_conv): Conv1d(16.38 k, 0.595% Params, 4.19 MMac, 0.751% MACs, 256, 64, kernel_size=(1,), stride=(1,), bias=False)\n",
      "      (v_conv): Conv1d(65.79 k, 2.390% Params, 16.84 MMac, 3.015% MACs, 256, 256, kernel_size=(1,), stride=(1,))\n",
      "      (trans_conv): Conv1d(65.79 k, 2.390% Params, 16.84 MMac, 3.015% MACs, 256, 256, kernel_size=(1,), stride=(1,))\n",
      "      (after_norm): BatchNorm1d(512, 0.019% Params, 131.07 KMac, 0.023% MACs, 256, eps=1e-05, momentum=0.1, affine=True, track_running_stats=True)\n",
      "      (act): ReLU(0, 0.000% Params, 65.54 KMac, 0.012% MACs, )\n",
      "      (softmax): Softmax(0, 0.000% Params, 0.0 Mac, 0.000% MACs, dim=-1)\n",
      "    )\n",
      "    (sa4): SA_Layer(\n",
      "      164.86 k, 5.990% Params, 42.27 MMac, 7.566% MACs, \n",
      "      (q_conv): Conv1d(16.38 k, 0.595% Params, 4.19 MMac, 0.751% MACs, 256, 64, kernel_size=(1,), stride=(1,), bias=False)\n",
      "      (k_conv): Conv1d(16.38 k, 0.595% Params, 4.19 MMac, 0.751% MACs, 256, 64, kernel_size=(1,), stride=(1,), bias=False)\n",
      "      (v_conv): Conv1d(65.79 k, 2.390% Params, 16.84 MMac, 3.015% MACs, 256, 256, kernel_size=(1,), stride=(1,))\n",
      "      (trans_conv): Conv1d(65.79 k, 2.390% Params, 16.84 MMac, 3.015% MACs, 256, 256, kernel_size=(1,), stride=(1,))\n",
      "      (after_norm): BatchNorm1d(512, 0.019% Params, 131.07 KMac, 0.023% MACs, 256, eps=1e-05, momentum=0.1, affine=True, track_running_stats=True)\n",
      "      (act): ReLU(0, 0.000% Params, 65.54 KMac, 0.012% MACs, )\n",
      "      (softmax): Softmax(0, 0.000% Params, 0.0 Mac, 0.000% MACs, dim=-1)\n",
      "    )\n",
      "    (relu): ReLU(0, 0.000% Params, 131.07 KMac, 0.023% MACs, )\n",
      "  )\n",
      "  (relu): ReLU(0, 0.000% Params, 131.84 KMac, 0.024% MACs, )\n",
      "  (conv_fuse): Sequential(\n",
      "    1.31 M, 47.694% Params, 336.33 MMac, 60.198% MACs, \n",
      "    (0): Conv1d(1.31 M, 47.619% Params, 335.54 MMac, 60.057% MACs, 1280, 1024, kernel_size=(1,), stride=(1,), bias=False)\n",
      "    (1): BatchNorm1d(2.05 k, 0.074% Params, 524.29 KMac, 0.094% MACs, 1024, eps=1e-05, momentum=0.1, affine=True, track_running_stats=True)\n",
      "    (2): LeakyReLU(0, 0.000% Params, 262.14 KMac, 0.047% MACs, negative_slope=0.2)\n",
      "  )\n",
      "  (linear1): Linear(524.29 k, 19.048% Params, 524.29 KMac, 0.094% MACs, in_features=1024, out_features=512, bias=False)\n",
      "  (bn6): BatchNorm1d(1.02 k, 0.037% Params, 1.02 KMac, 0.000% MACs, 512, eps=1e-05, momentum=0.1, affine=True, track_running_stats=True)\n",
      "  (dp1): Dropout(0, 0.000% Params, 0.0 Mac, 0.000% MACs, p=0.5, inplace=False)\n",
      "  (linear2): Linear(131.33 k, 4.771% Params, 131.33 KMac, 0.024% MACs, in_features=512, out_features=256, bias=True)\n",
      "  (bn7): BatchNorm1d(512, 0.019% Params, 512.0 Mac, 0.000% MACs, 256, eps=1e-05, momentum=0.1, affine=True, track_running_stats=True)\n",
      "  (dp2): Dropout(0, 0.000% Params, 0.0 Mac, 0.000% MACs, p=0.5, inplace=False)\n",
      "  (linear3): Linear(10.28 k, 0.373% Params, 10.28 KMac, 0.002% MACs, in_features=256, out_features=40, bias=True)\n",
      ")\n",
      "FLOPs: 558.71 MMac\n",
      "Parameters: 2.75 M\n"
     ]
    }
   ],
   "source": [
    "sys.path.append('src/train')\n",
    "\n",
    "import torch\n",
    "import torchvision.models as models\n",
    "from ptflops import get_model_complexity_info\n",
    "from train_model import get_model\n",
    "\n",
    "model, _ = get_model(\n",
    "    \"pct\", \n",
    "    \"random\", \n",
    "    1024,\n",
    "    40,\n",
    "    3,\n",
    "    64,\n",
    "    32,  \n",
    "    \"mps\"\n",
    ")\n",
    "\n",
    "input_tensor = torch.rand(32, 1024, 3).to(\"mps\")\n",
    "flops, params = get_model_complexity_info(model, (1024, 3), as_strings=True, print_per_layer_stat=True)\n",
    "\n",
    "print('FLOPs:', flops)\n",
    "print('Parameters:', params)"
   ]
  },
  {
   "cell_type": "code",
   "execution_count": 72,
   "metadata": {},
   "outputs": [
    {
     "name": "stdout",
     "output_type": "stream",
     "text": [
      "PointTransformerCls(\n",
      "  7.91 M, 100.000% Params, 2.79 GMac, 99.921% MACs, \n",
      "  (backbone): Backbone(\n",
      "    7.76 M, 98.098% Params, 2.79 GMac, 99.916% MACs, \n",
      "    (fc1): Sequential(\n",
      "      1.18 k, 0.015% Params, 1.25 MMac, 0.045% MACs, \n",
      "      (0): Linear(128, 0.002% Params, 131.07 KMac, 0.005% MACs, in_features=3, out_features=32, bias=True)\n",
      "      (1): ReLU(0, 0.000% Params, 32.77 KMac, 0.001% MACs, )\n",
      "      (2): Linear(1.06 k, 0.013% Params, 1.08 MMac, 0.039% MACs, in_features=32, out_features=32, bias=True)\n",
      "    )\n",
      "    (transformer1): MyAttention2(\n",
      "      1.35 M, 17.014% Params, 1.38 GMac, 49.347% MACs, \n",
      "      (fc1): Linear(16.9 k, 0.214% Params, 17.3 MMac, 0.620% MACs, in_features=32, out_features=512, bias=True)\n",
      "      (fc2): Linear(16.42 k, 0.208% Params, 16.81 MMac, 0.602% MACs, in_features=512, out_features=32, bias=True)\n",
      "      (fc_gamma): Sequential(\n",
      "        525.31 k, 6.645% Params, 538.44 MMac, 19.284% MACs, \n",
      "        (0): Linear(262.66 k, 3.322% Params, 268.96 MMac, 9.633% MACs, in_features=512, out_features=512, bias=True)\n",
      "        (1): ReLU(0, 0.000% Params, 524.29 KMac, 0.019% MACs, )\n",
      "        (2): Linear(262.66 k, 3.322% Params, 268.96 MMac, 9.633% MACs, in_features=512, out_features=512, bias=True)\n",
      "      )\n",
      "      (w_qs): Linear(262.14 k, 3.316% Params, 268.44 MMac, 9.614% MACs, in_features=512, out_features=512, bias=False)\n",
      "      (w_ks): Linear(262.14 k, 3.316% Params, 268.44 MMac, 9.614% MACs, in_features=512, out_features=512, bias=False)\n",
      "      (w_vs): Linear(262.14 k, 3.316% Params, 268.44 MMac, 9.614% MACs, in_features=512, out_features=512, bias=False)\n",
      "    )\n",
      "    (transition_downs): ModuleList(\n",
      "      (0): TOME(\n",
      "        2.18 k, 0.028% Params, 1.15 MMac, 0.041% MACs, \n",
      "        (merge): Merge(0, 0.000% Params, 0.0 Mac, 0.000% MACs, )\n",
      "        (conv): Conv1d(2.05 k, 0.026% Params, 1.05 MMac, 0.038% MACs, 32, 64, kernel_size=(1,), stride=(1,), bias=False)\n",
      "        (bn): BatchNorm1d(128, 0.002% Params, 65.54 KMac, 0.002% MACs, 64, eps=1e-05, momentum=0.1, affine=True, track_running_stats=True)\n",
      "        (relu): ReLU(0, 0.000% Params, 32.77 KMac, 0.001% MACs, )\n",
      "      )\n",
      "      (1): TOME(\n",
      "        8.45 k, 0.107% Params, 2.2 MMac, 0.079% MACs, \n",
      "        (merge): Merge(0, 0.000% Params, 0.0 Mac, 0.000% MACs, )\n",
      "        (conv): Conv1d(8.19 k, 0.104% Params, 2.1 MMac, 0.075% MACs, 64, 128, kernel_size=(1,), stride=(1,), bias=False)\n",
      "        (bn): BatchNorm1d(256, 0.003% Params, 65.54 KMac, 0.002% MACs, 128, eps=1e-05, momentum=0.1, affine=True, track_running_stats=True)\n",
      "        (relu): ReLU(0, 0.000% Params, 32.77 KMac, 0.001% MACs, )\n",
      "      )\n",
      "      (2): TOME(\n",
      "        33.28 k, 0.421% Params, 4.29 MMac, 0.154% MACs, \n",
      "        (merge): Merge(0, 0.000% Params, 0.0 Mac, 0.000% MACs, )\n",
      "        (conv): Conv1d(32.77 k, 0.414% Params, 4.19 MMac, 0.150% MACs, 128, 256, kernel_size=(1,), stride=(1,), bias=False)\n",
      "        (bn): BatchNorm1d(512, 0.006% Params, 65.54 KMac, 0.002% MACs, 256, eps=1e-05, momentum=0.1, affine=True, track_running_stats=True)\n",
      "        (relu): ReLU(0, 0.000% Params, 32.77 KMac, 0.001% MACs, )\n",
      "      )\n",
      "      (3): TOME(\n",
      "        132.1 k, 1.671% Params, 8.49 MMac, 0.304% MACs, \n",
      "        (merge): Merge(0, 0.000% Params, 0.0 Mac, 0.000% MACs, )\n",
      "        (conv): Conv1d(131.07 k, 1.658% Params, 8.39 MMac, 0.300% MACs, 256, 512, kernel_size=(1,), stride=(1,), bias=False)\n",
      "        (bn): BatchNorm1d(1.02 k, 0.013% Params, 65.54 KMac, 0.002% MACs, 512, eps=1e-05, momentum=0.1, affine=True, track_running_stats=True)\n",
      "        (relu): ReLU(0, 0.000% Params, 32.77 KMac, 0.001% MACs, )\n",
      "      )\n",
      "    )\n",
      "    (transformers): ModuleList(\n",
      "      (0): MyAttention2(\n",
      "        1.38 M, 17.429% Params, 705.72 MMac, 25.275% MACs, \n",
      "        (fc1): Linear(33.28 k, 0.421% Params, 17.04 MMac, 0.610% MACs, in_features=64, out_features=512, bias=True)\n",
      "        (fc2): Linear(32.83 k, 0.415% Params, 16.81 MMac, 0.602% MACs, in_features=512, out_features=64, bias=True)\n",
      "        (fc_gamma): Sequential(\n",
      "          525.31 k, 6.645% Params, 269.22 MMac, 9.642% MACs, \n",
      "          (0): Linear(262.66 k, 3.322% Params, 134.48 MMac, 4.816% MACs, in_features=512, out_features=512, bias=True)\n",
      "          (1): ReLU(0, 0.000% Params, 262.14 KMac, 0.009% MACs, )\n",
      "          (2): Linear(262.66 k, 3.322% Params, 134.48 MMac, 4.816% MACs, in_features=512, out_features=512, bias=True)\n",
      "        )\n",
      "        (w_qs): Linear(262.14 k, 3.316% Params, 134.22 MMac, 4.807% MACs, in_features=512, out_features=512, bias=False)\n",
      "        (w_ks): Linear(262.14 k, 3.316% Params, 134.22 MMac, 4.807% MACs, in_features=512, out_features=512, bias=False)\n",
      "        (w_vs): Linear(262.14 k, 3.316% Params, 134.22 MMac, 4.807% MACs, in_features=512, out_features=512, bias=False)\n",
      "      )\n",
      "      (1): MyAttention2(\n",
      "        1.44 M, 18.259% Params, 369.66 MMac, 13.239% MACs, \n",
      "        (fc1): Linear(66.05 k, 0.835% Params, 16.91 MMac, 0.606% MACs, in_features=128, out_features=512, bias=True)\n",
      "        (fc2): Linear(65.66 k, 0.831% Params, 16.81 MMac, 0.602% MACs, in_features=512, out_features=128, bias=True)\n",
      "        (fc_gamma): Sequential(\n",
      "          525.31 k, 6.645% Params, 134.61 MMac, 4.821% MACs, \n",
      "          (0): Linear(262.66 k, 3.322% Params, 67.24 MMac, 2.408% MACs, in_features=512, out_features=512, bias=True)\n",
      "          (1): ReLU(0, 0.000% Params, 131.07 KMac, 0.005% MACs, )\n",
      "          (2): Linear(262.66 k, 3.322% Params, 67.24 MMac, 2.408% MACs, in_features=512, out_features=512, bias=True)\n",
      "        )\n",
      "        (w_qs): Linear(262.14 k, 3.316% Params, 67.11 MMac, 2.403% MACs, in_features=512, out_features=512, bias=False)\n",
      "        (w_ks): Linear(262.14 k, 3.316% Params, 67.11 MMac, 2.403% MACs, in_features=512, out_features=512, bias=False)\n",
      "        (w_vs): Linear(262.14 k, 3.316% Params, 67.11 MMac, 2.403% MACs, in_features=512, out_features=512, bias=False)\n",
      "      )\n",
      "      (2): MyAttention2(\n",
      "        1.57 M, 19.918% Params, 201.62 MMac, 7.221% MACs, \n",
      "        (fc1): Linear(131.58 k, 1.664% Params, 16.84 MMac, 0.603% MACs, in_features=256, out_features=512, bias=True)\n",
      "        (fc2): Linear(131.33 k, 1.661% Params, 16.81 MMac, 0.602% MACs, in_features=512, out_features=256, bias=True)\n",
      "        (fc_gamma): Sequential(\n",
      "          525.31 k, 6.645% Params, 67.31 MMac, 2.410% MACs, \n",
      "          (0): Linear(262.66 k, 3.322% Params, 33.62 MMac, 1.204% MACs, in_features=512, out_features=512, bias=True)\n",
      "          (1): ReLU(0, 0.000% Params, 65.54 KMac, 0.002% MACs, )\n",
      "          (2): Linear(262.66 k, 3.322% Params, 33.62 MMac, 1.204% MACs, in_features=512, out_features=512, bias=True)\n",
      "        )\n",
      "        (w_qs): Linear(262.14 k, 3.316% Params, 33.55 MMac, 1.202% MACs, in_features=512, out_features=512, bias=False)\n",
      "        (w_ks): Linear(262.14 k, 3.316% Params, 33.55 MMac, 1.202% MACs, in_features=512, out_features=512, bias=False)\n",
      "        (w_vs): Linear(262.14 k, 3.316% Params, 33.55 MMac, 1.202% MACs, in_features=512, out_features=512, bias=False)\n",
      "      )\n",
      "      (3): MyAttention2(\n",
      "        1.84 M, 23.237% Params, 117.6 MMac, 4.212% MACs, \n",
      "        (fc1): Linear(262.66 k, 3.322% Params, 16.81 MMac, 0.602% MACs, in_features=512, out_features=512, bias=True)\n",
      "        (fc2): Linear(262.66 k, 3.322% Params, 16.81 MMac, 0.602% MACs, in_features=512, out_features=512, bias=True)\n",
      "        (fc_gamma): Sequential(\n",
      "          525.31 k, 6.645% Params, 33.65 MMac, 1.205% MACs, \n",
      "          (0): Linear(262.66 k, 3.322% Params, 16.81 MMac, 0.602% MACs, in_features=512, out_features=512, bias=True)\n",
      "          (1): ReLU(0, 0.000% Params, 32.77 KMac, 0.001% MACs, )\n",
      "          (2): Linear(262.66 k, 3.322% Params, 16.81 MMac, 0.602% MACs, in_features=512, out_features=512, bias=True)\n",
      "        )\n",
      "        (w_qs): Linear(262.14 k, 3.316% Params, 16.78 MMac, 0.601% MACs, in_features=512, out_features=512, bias=False)\n",
      "        (w_ks): Linear(262.14 k, 3.316% Params, 16.78 MMac, 0.601% MACs, in_features=512, out_features=512, bias=False)\n",
      "        (w_vs): Linear(262.14 k, 3.316% Params, 16.78 MMac, 0.601% MACs, in_features=512, out_features=512, bias=False)\n",
      "      )\n",
      "    )\n",
      "  )\n",
      "  (fc2): Sequential(\n",
      "    150.38 k, 1.902% Params, 150.7 KMac, 0.005% MACs, \n",
      "    (0): Linear(131.33 k, 1.661% Params, 131.33 KMac, 0.005% MACs, in_features=512, out_features=256, bias=True)\n",
      "    (1): ReLU(0, 0.000% Params, 256.0 Mac, 0.000% MACs, )\n",
      "    (2): Linear(16.45 k, 0.208% Params, 16.45 KMac, 0.001% MACs, in_features=256, out_features=64, bias=True)\n",
      "    (3): ReLU(0, 0.000% Params, 64.0 Mac, 0.000% MACs, )\n",
      "    (4): Linear(2.6 k, 0.033% Params, 2.6 KMac, 0.000% MACs, in_features=64, out_features=40, bias=True)\n",
      "  )\n",
      ")\n",
      "2.79 GMac\n"
     ]
    }
   ],
   "source": [
    "model, _ = get_model(\n",
    "    \"pt\", \n",
    "    \"tome_xyz\", \n",
    "    1024,\n",
    "    40,\n",
    "    3,\n",
    "    32,\n",
    "    16,  \n",
    "    \"mps\"\n",
    ")\n",
    "\n",
    "input_tensor = torch.rand(32, 1024, 3).to(\"mps\")\n",
    "flops, params = get_model_complexity_info(model, (1024, 3), as_strings=True, print_per_layer_stat=True)\n",
    "\n",
    "# print('FLOPs:', flops)\n",
    "# print('Parameters:', params)\n",
    "\n",
    "print(flops)"
   ]
  },
  {
   "cell_type": "code",
   "execution_count": 38,
   "metadata": {},
   "outputs": [],
   "source": [
    "import time\n",
    "\n",
    "time_dict = dict()\n",
    "\n",
    "for model_name in [\"pct\", \"pt\"]:\n",
    "    time_dict[model_name] = dict()\n",
    "\n",
    "    if model_name == \"pct\":\n",
    "        hidden_size = 64\n",
    "        k = 32\n",
    "    else:\n",
    "        hidden_size = 32\n",
    "        k = 16\n",
    "\n",
    "    for strat in [\"normal\", \"tome_ft\", \"tome_xyz\", \"random\"]:\n",
    "        model, _ = get_model(\n",
    "            model_name, \n",
    "            strat, \n",
    "            1024,\n",
    "            40,\n",
    "            3,\n",
    "            hidden_size,\n",
    "            k,  \n",
    "            \"mps\"\n",
    "        )\n",
    "\n",
    "        N = 5\n",
    "        times = list()\n",
    "        for i in range(N):\n",
    "            input = torch.rand(32, 1024, 3).to(\"mps\")\n",
    "            start = time.time()\n",
    "            model(input)\n",
    "            end = time.time()\n",
    "            times.append(end - start)\n",
    "\n",
    "        times = np.array(times)\n",
    "        time_dict[model_name][strat] = times\n",
    "            "
   ]
  },
  {
   "cell_type": "code",
   "execution_count": 57,
   "metadata": {},
   "outputs": [
    {
     "data": {
      "text/plain": [
       "[Text(0.5, 0, 'strategy'), Text(0, 0.5, 'time (seconds)')]"
      ]
     },
     "execution_count": 57,
     "metadata": {},
     "output_type": "execute_result"
    },
    {
     "data": {
      "image/png": "[encoded data removed]",
      "text/plain": [
       "<Figure size 640x480 with 1 Axes>"
      ]
     },
     "metadata": {},
     "output_type": "display_data"
    }
   ],
   "source": [
    "melted = pd.DataFrame(time_dict).reset_index().melt(id_vars = 'index').explode(column='value').reset_index(drop=True)\n",
    "melted \n",
    "ax = sns.barplot(melted[melted['variable'] == 'pct'],x='index',y='value')\n",
    "ax.set(xlabel='strategy', ylabel='time (seconds)')"
   ]
  },
  {
   "cell_type": "code",
   "execution_count": 59,
   "metadata": {},
   "outputs": [
    {
     "data": {
      "text/plain": [
       "[Text(0.5, 0, 'strategy'), Text(0, 0.5, 'time (seconds)')]"
      ]
     },
     "execution_count": 59,
     "metadata": {},
     "output_type": "execute_result"
    },
    {
     "data": {
      "image/png": "[encoded data removed]",
      "text/plain": [
       "<Figure size 640x480 with 1 Axes>"
      ]
     },
     "metadata": {},
     "output_type": "display_data"
    }
   ],
   "source": [
    "ax = sns.barplot(melted[melted['variable'] == 'pt'],x='index',y='value')\n",
    "ax.set(xlabel='strategy', ylabel='time (seconds)')"
   ]
  },
  {
   "cell_type": "code",
   "execution_count": null,
   "metadata": {},
   "outputs": [],
   "source": []
  }
 ],
 "metadata": {
  "kernelspec": {
   "display_name": "sys_genai",
   "language": "python",
   "name": "python3"
  },
  "language_info": {
   "codemirror_mode": {
    "name": "ipython",
    "version": 3
   },
   "file_extension": ".py",
   "mimetype": "text/x-python",
   "name": "python",
   "nbconvert_exporter": "python",
   "pygments_lexer": "ipython3",
   "version": "3.9.12"
  },
  "orig_nbformat": 4
 },
 "nbformat": 4,
 "nbformat_minor": 2
}
