{
 "cells": [
  {
   "cell_type": "code",
   "execution_count": 43,
   "metadata": {},
   "outputs": [],
   "source": [
    "import os\n",
    "import pandas as pd\n",
    "import sys\n",
    "import numpy as np\n",
    "import seaborn as sns\n",
    "import time\n",
    "from tqdm import tqdm\n",
    "\n",
    "import torch\n",
    "import torchvision.models as models\n",
    "from ptflops import get_model_complexity_info\n",
    "\n",
    "from itertools import product\n",
    "\n",
    "from src.train.config import Config as ModelConfig\n",
    "from src.models.pct.point_transformer_cls import get_model as get_pct, get_loss as get_pct_loss\n",
    "from src.models.pt.model import get_model as get_pt, get_loss as get_pt_loss\n",
    "\n",
    "# sys.path.append('src')"
   ]
  },
  {
   "cell_type": "code",
   "execution_count": 2,
   "metadata": {},
   "outputs": [
    {
     "name": "stdout",
     "output_type": "stream",
     "text": [
      "0.8946731234866828\n",
      "0.8595641646489104\n",
      "nan\n",
      "nan\n"
     ]
    }
   ],
   "source": [
    "for i in range(1, 5):\n",
    "    fp = os.path.join(\"outputs/test\", str(i), \"progress.csv\")\n",
    "    df = pd.read_csv(fp)\n",
    "    print(max(df[\"V_Accuracy\"]))"
   ]
  },
  {
   "cell_type": "code",
   "execution_count": 3,
   "metadata": {},
   "outputs": [],
   "source": [
    "\n",
    "device = 'cpu'\n",
    "\n",
    "def get_model(model_name, method, num_points, num_class, input_dim, init_hidden_dim, k, device,further_ds=0):\n",
    "    model_config = ModelConfig(method, num_points, num_class, input_dim, init_hidden_dim, k,tome_further_ds=1.000-further_ds)\n",
    "    print(model_config.tome_further_ds)\n",
    "    if model_name == \"pct\":\n",
    "        model = get_pct(model_config).float().to(device)\n",
    "        loss_fn = get_pct_loss()\n",
    "    elif model_name == \"pt\":\n",
    "        model = get_pt(model_config).float().to(device)\n",
    "        loss_fn = get_pt_loss()\n",
    "    else:\n",
    "        raise ValueError(f\"The provided model_name is not supported: {model_name}\")\n",
    "    \n",
    "    return model, loss_fn"
   ]
  },
  {
   "cell_type": "code",
   "execution_count": 4,
   "metadata": {},
   "outputs": [
    {
     "name": "stdout",
     "output_type": "stream",
     "text": [
      "1.0\n"
     ]
    },
    {
     "name": "stdout",
     "output_type": "stream",
     "text": [
      "Warning: parameters of some of the modules were counted twice because of multiple links to the same modules. Extended per layer parameters num statistic could be unreliable.\n",
      "PCT(\n",
      "  2.82 M, 102.381% Params, 557.79 MMac, 99.836% MACs, \n",
      "  (conv1): Conv1d(192, 0.007% Params, 196.61 KMac, 0.035% MACs, 3, 64, kernel_size=(1,), stride=(1,), bias=False)\n",
      "  (conv2): Conv1d(4.1 k, 0.149% Params, 4.19 MMac, 0.751% MACs, 64, 64, kernel_size=(1,), stride=(1,), bias=False)\n",
      "  (bn1): BatchNorm1d(128, 0.005% Params, 131.07 KMac, 0.023% MACs, 64, eps=1e-05, momentum=0.1, affine=True, track_running_stats=True)\n",
      "  (bn2): BatchNorm1d(128, 0.005% Params, 131.07 KMac, 0.023% MACs, 64, eps=1e-05, momentum=0.1, affine=True, track_running_stats=True)\n",
      "  (downsample1): TOME(\n",
      "    8.45 k, 0.307% Params, 4.39 MMac, 0.786% MACs, \n",
      "    (merge): Merge(0, 0.000% Params, 0.0 Mac, 0.000% MACs, )\n",
      "    (conv): Conv1d(8.19 k, 0.298% Params, 4.19 MMac, 0.751% MACs, 64, 128, kernel_size=(1,), stride=(1,), bias=False)\n",
      "    (bn): BatchNorm1d(256, 0.009% Params, 131.07 KMac, 0.023% MACs, 128, eps=1e-05, momentum=0.1, affine=True, track_running_stats=True)\n",
      "    (relu): ReLU(0, 0.000% Params, 65.54 KMac, 0.012% MACs, )\n",
      "  )\n",
      "  (downsample2): TOME(\n",
      "    33.28 k, 1.209% Params, 8.59 MMac, 1.537% MACs, \n",
      "    (merge): Merge(0, 0.000% Params, 0.0 Mac, 0.000% MACs, )\n",
      "    (conv): Conv1d(32.77 k, 1.190% Params, 8.39 MMac, 1.501% MACs, 128, 256, kernel_size=(1,), stride=(1,), bias=False)\n",
      "    (bn): BatchNorm1d(512, 0.019% Params, 131.07 KMac, 0.023% MACs, 256, eps=1e-05, momentum=0.1, affine=True, track_running_stats=True)\n",
      "    (relu): ReLU(0, 0.000% Params, 65.54 KMac, 0.012% MACs, )\n",
      "  )\n",
      "  (pt_last): StackedAttention(\n",
      "    791.55 k, 28.758% Params, 203.03 MMac, 36.339% MACs, \n",
      "    (conv1): Conv1d(65.54 k, 2.381% Params, 16.78 MMac, 3.003% MACs, 256, 256, kernel_size=(1,), stride=(1,), bias=False)\n",
      "    (conv2): Conv1d(65.54 k, 2.381% Params, 16.78 MMac, 3.003% MACs, 256, 256, kernel_size=(1,), stride=(1,), bias=False)\n",
      "    (bn1): BatchNorm1d(512, 0.019% Params, 131.07 KMac, 0.023% MACs, 256, eps=1e-05, momentum=0.1, affine=True, track_running_stats=True)\n",
      "    (bn2): BatchNorm1d(512, 0.019% Params, 131.07 KMac, 0.023% MACs, 256, eps=1e-05, momentum=0.1, affine=True, track_running_stats=True)\n",
      "    (sa1): SA_Layer(\n",
      "      164.86 k, 5.990% Params, 42.27 MMac, 7.566% MACs, \n",
      "      (q_conv): Conv1d(16.38 k, 0.595% Params, 4.19 MMac, 0.751% MACs, 256, 64, kernel_size=(1,), stride=(1,), bias=False)\n",
      "      (k_conv): Conv1d(16.38 k, 0.595% Params, 4.19 MMac, 0.751% MACs, 256, 64, kernel_size=(1,), stride=(1,), bias=False)\n",
      "      (v_conv): Conv1d(65.79 k, 2.390% Params, 16.84 MMac, 3.015% MACs, 256, 256, kernel_size=(1,), stride=(1,))\n",
      "      (trans_conv): Conv1d(65.79 k, 2.390% Params, 16.84 MMac, 3.015% MACs, 256, 256, kernel_size=(1,), stride=(1,))\n",
      "      (after_norm): BatchNorm1d(512, 0.019% Params, 131.07 KMac, 0.023% MACs, 256, eps=1e-05, momentum=0.1, affine=True, track_running_stats=True)\n",
      "      (act): ReLU(0, 0.000% Params, 65.54 KMac, 0.012% MACs, )\n",
      "      (softmax): Softmax(0, 0.000% Params, 0.0 Mac, 0.000% MACs, dim=-1)\n",
      "    )\n",
      "    (sa2): SA_Layer(\n",
      "      164.86 k, 5.990% Params, 42.27 MMac, 7.566% MACs, \n",
      "      (q_conv): Conv1d(16.38 k, 0.595% Params, 4.19 MMac, 0.751% MACs, 256, 64, kernel_size=(1,), stride=(1,), bias=False)\n",
      "      (k_conv): Conv1d(16.38 k, 0.595% Params, 4.19 MMac, 0.751% MACs, 256, 64, kernel_size=(1,), stride=(1,), bias=False)\n",
      "      (v_conv): Conv1d(65.79 k, 2.390% Params, 16.84 MMac, 3.015% MACs, 256, 256, kernel_size=(1,), stride=(1,))\n",
      "      (trans_conv): Conv1d(65.79 k, 2.390% Params, 16.84 MMac, 3.015% MACs, 256, 256, kernel_size=(1,), stride=(1,))\n",
      "      (after_norm): BatchNorm1d(512, 0.019% Params, 131.07 KMac, 0.023% MACs, 256, eps=1e-05, momentum=0.1, affine=True, track_running_stats=True)\n",
      "      (act): ReLU(0, 0.000% Params, 65.54 KMac, 0.012% MACs, )\n",
      "      (softmax): Softmax(0, 0.000% Params, 0.0 Mac, 0.000% MACs, dim=-1)\n",
      "    )\n",
      "    (sa3): SA_Layer(\n",
      "      164.86 k, 5.990% Params, 42.27 MMac, 7.566% MACs, \n",
      "      (q_conv): Conv1d(16.38 k, 0.595% Params, 4.19 MMac, 0.751% MACs, 256, 64, kernel_size=(1,), stride=(1,), bias=False)\n",
      "      (k_conv): Conv1d(16.38 k, 0.595% Params, 4.19 MMac, 0.751% MACs, 256, 64, kernel_size=(1,), stride=(1,), bias=False)\n",
      "      (v_conv): Conv1d(65.79 k, 2.390% Params, 16.84 MMac, 3.015% MACs, 256, 256, kernel_size=(1,), stride=(1,))\n",
      "      (trans_conv): Conv1d(65.79 k, 2.390% Params, 16.84 MMac, 3.015% MACs, 256, 256, kernel_size=(1,), stride=(1,))\n",
      "      (after_norm): BatchNorm1d(512, 0.019% Params, 131.07 KMac, 0.023% MACs, 256, eps=1e-05, momentum=0.1, affine=True, track_running_stats=True)\n",
      "      (act): ReLU(0, 0.000% Params, 65.54 KMac, 0.012% MACs, )\n",
      "      (softmax): Softmax(0, 0.000% Params, 0.0 Mac, 0.000% MACs, dim=-1)\n",
      "    )\n",
      "    (sa4): SA_Layer(\n",
      "      164.86 k, 5.990% Params, 42.27 MMac, 7.566% MACs, \n",
      "      (q_conv): Conv1d(16.38 k, 0.595% Params, 4.19 MMac, 0.751% MACs, 256, 64, kernel_size=(1,), stride=(1,), bias=False)\n",
      "      (k_conv): Conv1d(16.38 k, 0.595% Params, 4.19 MMac, 0.751% MACs, 256, 64, kernel_size=(1,), stride=(1,), bias=False)\n",
      "      (v_conv): Conv1d(65.79 k, 2.390% Params, 16.84 MMac, 3.015% MACs, 256, 256, kernel_size=(1,), stride=(1,))\n",
      "      (trans_conv): Conv1d(65.79 k, 2.390% Params, 16.84 MMac, 3.015% MACs, 256, 256, kernel_size=(1,), stride=(1,))\n",
      "      (after_norm): BatchNorm1d(512, 0.019% Params, 131.07 KMac, 0.023% MACs, 256, eps=1e-05, momentum=0.1, affine=True, track_running_stats=True)\n",
      "      (act): ReLU(0, 0.000% Params, 65.54 KMac, 0.012% MACs, )\n",
      "      (softmax): Softmax(0, 0.000% Params, 0.0 Mac, 0.000% MACs, dim=-1)\n",
      "    )\n",
      "    (relu): ReLU(0, 0.000% Params, 131.07 KMac, 0.023% MACs, )\n",
      "  )\n",
      "  (relu): ReLU(0, 0.000% Params, 131.84 KMac, 0.024% MACs, )\n",
      "  (conv_fuse): Sequential(\n",
      "    1.31 M, 47.694% Params, 336.33 MMac, 60.198% MACs, \n",
      "    (0): Conv1d(1.31 M, 47.619% Params, 335.54 MMac, 60.057% MACs, 1280, 1024, kernel_size=(1,), stride=(1,), bias=False)\n",
      "    (1): BatchNorm1d(2.05 k, 0.074% Params, 524.29 KMac, 0.094% MACs, 1024, eps=1e-05, momentum=0.1, affine=True, track_running_stats=True)\n",
      "    (2): LeakyReLU(0, 0.000% Params, 262.14 KMac, 0.047% MACs, negative_slope=0.2)\n",
      "  )\n",
      "  (linear1): Linear(524.29 k, 19.048% Params, 524.29 KMac, 0.094% MACs, in_features=1024, out_features=512, bias=False)\n",
      "  (bn6): BatchNorm1d(1.02 k, 0.037% Params, 1.02 KMac, 0.000% MACs, 512, eps=1e-05, momentum=0.1, affine=True, track_running_stats=True)\n",
      "  (dp1): Dropout(0, 0.000% Params, 0.0 Mac, 0.000% MACs, p=0.5, inplace=False)\n",
      "  (linear2): Linear(131.33 k, 4.771% Params, 131.33 KMac, 0.024% MACs, in_features=512, out_features=256, bias=True)\n",
      "  (bn7): BatchNorm1d(512, 0.019% Params, 512.0 Mac, 0.000% MACs, 256, eps=1e-05, momentum=0.1, affine=True, track_running_stats=True)\n",
      "  (dp2): Dropout(0, 0.000% Params, 0.0 Mac, 0.000% MACs, p=0.5, inplace=False)\n",
      "  (linear3): Linear(10.28 k, 0.373% Params, 10.28 KMac, 0.002% MACs, in_features=256, out_features=40, bias=True)\n",
      ")\n",
      "FLOPs: 558.71 MMac\n",
      "Parameters: 2.75 M\n"
     ]
    }
   ],
   "source": [
    "sys.path.append('src/train')\n",
    "\n",
    "# from train_model import get_model\n",
    "\n",
    "model, _ = get_model(\n",
    "    \"pct\", \n",
    "    \"tome_ft\", \n",
    "    1024,\n",
    "    40,\n",
    "    3,\n",
    "    64,\n",
    "    32,  \n",
    "    device\n",
    ")\n",
    "\n",
    "input_tensor = torch.rand(32, 1024, 3).to(device)\n",
    "flops, params = get_model_complexity_info(model, (1024, 3), as_strings=True, print_per_layer_stat=True)\n",
    "\n",
    "print('FLOPs:', flops)\n",
    "print('Parameters:', params)"
   ]
  },
  {
   "cell_type": "code",
   "execution_count": 5,
   "metadata": {},
   "outputs": [
    {
     "name": "stdout",
     "output_type": "stream",
     "text": [
      "1.0\n",
      "initing tome with downsampling factor = 1.0 and use_xyz = False\n",
      "initing tome with downsampling factor = 1.0 and use_xyz = False\n",
      "initing tome with downsampling factor = 1.0 and use_xyz = False\n",
      "initing tome with downsampling factor = 1.0 and use_xyz = False\n",
      "PointTransformerCls(\n",
      "  7.91 M, 100.000% Params, 2.34 GMac, 99.921% MACs, \n",
      "  (backbone): Backbone(\n",
      "    7.76 M, 98.098% Params, 2.34 GMac, 99.915% MACs, \n",
      "    (fc1): Sequential(\n",
      "      1.18 k, 0.015% Params, 1.25 MMac, 0.053% MACs, \n",
      "      (0): Linear(128, 0.002% Params, 131.07 KMac, 0.006% MACs, in_features=3, out_features=32, bias=True)\n",
      "      (1): ReLU(0, 0.000% Params, 32.77 KMac, 0.001% MACs, )\n",
      "      (2): Linear(1.06 k, 0.013% Params, 1.08 MMac, 0.046% MACs, in_features=32, out_features=32, bias=True)\n",
      "    )\n",
      "    (transformer1): MyAttention2(\n",
      "      1.35 M, 17.014% Params, 1.38 GMac, 58.854% MACs, \n",
      "      (fc1): Linear(16.9 k, 0.214% Params, 17.3 MMac, 0.739% MACs, in_features=32, out_features=512, bias=True)\n",
      "      (fc2): Linear(16.42 k, 0.208% Params, 16.81 MMac, 0.718% MACs, in_features=512, out_features=32, bias=True)\n",
      "      (fc_gamma): Sequential(\n",
      "        525.31 k, 6.645% Params, 538.44 MMac, 22.999% MACs, \n",
      "        (0): Linear(262.66 k, 3.322% Params, 268.96 MMac, 11.488% MACs, in_features=512, out_features=512, bias=True)\n",
      "        (1): ReLU(0, 0.000% Params, 524.29 KMac, 0.022% MACs, )\n",
      "        (2): Linear(262.66 k, 3.322% Params, 268.96 MMac, 11.488% MACs, in_features=512, out_features=512, bias=True)\n",
      "      )\n",
      "      (w_qs): Linear(262.14 k, 3.316% Params, 268.44 MMac, 11.466% MACs, in_features=512, out_features=512, bias=False)\n",
      "      (w_ks): Linear(262.14 k, 3.316% Params, 268.44 MMac, 11.466% MACs, in_features=512, out_features=512, bias=False)\n",
      "      (w_vs): Linear(262.14 k, 3.316% Params, 268.44 MMac, 11.466% MACs, in_features=512, out_features=512, bias=False)\n",
      "    )\n",
      "    (transition_downs): ModuleList(\n",
      "      (0): TOME(\n",
      "        2.18 k, 0.028% Params, 1.15 MMac, 0.049% MACs, \n",
      "        (merge): Merge(0, 0.000% Params, 0.0 Mac, 0.000% MACs, )\n",
      "        (conv): Conv1d(2.05 k, 0.026% Params, 1.05 MMac, 0.045% MACs, 32, 64, kernel_size=(1,), stride=(1,), bias=False)\n",
      "        (bn): BatchNorm1d(128, 0.002% Params, 65.54 KMac, 0.003% MACs, 64, eps=1e-05, momentum=0.1, affine=True, track_running_stats=True)\n",
      "        (relu): ReLU(0, 0.000% Params, 32.77 KMac, 0.001% MACs, )\n",
      "      )\n",
      "      (1): TOME(\n",
      "        8.45 k, 0.107% Params, 1.1 MMac, 0.047% MACs, \n",
      "        (merge): Merge(0, 0.000% Params, 0.0 Mac, 0.000% MACs, )\n",
      "        (conv): Conv1d(8.19 k, 0.104% Params, 1.05 MMac, 0.045% MACs, 64, 128, kernel_size=(1,), stride=(1,), bias=False)\n",
      "        (bn): BatchNorm1d(256, 0.003% Params, 32.77 KMac, 0.001% MACs, 128, eps=1e-05, momentum=0.1, affine=True, track_running_stats=True)\n",
      "        (relu): ReLU(0, 0.000% Params, 16.38 KMac, 0.001% MACs, )\n",
      "      )\n",
      "      (2): TOME(\n",
      "        33.28 k, 0.421% Params, 1.07 MMac, 0.046% MACs, \n",
      "        (merge): Merge(0, 0.000% Params, 0.0 Mac, 0.000% MACs, )\n",
      "        (conv): Conv1d(32.77 k, 0.414% Params, 1.05 MMac, 0.045% MACs, 128, 256, kernel_size=(1,), stride=(1,), bias=False)\n",
      "        (bn): BatchNorm1d(512, 0.006% Params, 16.38 KMac, 0.001% MACs, 256, eps=1e-05, momentum=0.1, affine=True, track_running_stats=True)\n",
      "        (relu): ReLU(0, 0.000% Params, 8.19 KMac, 0.000% MACs, )\n",
      "      )\n",
      "      (3): TOME(\n",
      "        132.1 k, 1.671% Params, 1.06 MMac, 0.045% MACs, \n",
      "        (merge): Merge(0, 0.000% Params, 0.0 Mac, 0.000% MACs, )\n",
      "        (conv): Conv1d(131.07 k, 1.658% Params, 1.05 MMac, 0.045% MACs, 256, 512, kernel_size=(1,), stride=(1,), bias=False)\n",
      "        (bn): BatchNorm1d(1.02 k, 0.013% Params, 8.19 KMac, 0.000% MACs, 512, eps=1e-05, momentum=0.1, affine=True, track_running_stats=True)\n",
      "        (relu): ReLU(0, 0.000% Params, 4.1 KMac, 0.000% MACs, )\n",
      "      )\n",
      "    )\n",
      "    (transformers): ModuleList(\n",
      "      (0): MyAttention2(\n",
      "        1.38 M, 17.429% Params, 705.72 MMac, 30.145% MACs, \n",
      "        (fc1): Linear(33.28 k, 0.421% Params, 17.04 MMac, 0.728% MACs, in_features=64, out_features=512, bias=True)\n",
      "        (fc2): Linear(32.83 k, 0.415% Params, 16.81 MMac, 0.718% MACs, in_features=512, out_features=64, bias=True)\n",
      "        (fc_gamma): Sequential(\n",
      "          525.31 k, 6.645% Params, 269.22 MMac, 11.500% MACs, \n",
      "          (0): Linear(262.66 k, 3.322% Params, 134.48 MMac, 5.744% MACs, in_features=512, out_features=512, bias=True)\n",
      "          (1): ReLU(0, 0.000% Params, 262.14 KMac, 0.011% MACs, )\n",
      "          (2): Linear(262.66 k, 3.322% Params, 134.48 MMac, 5.744% MACs, in_features=512, out_features=512, bias=True)\n",
      "        )\n",
      "        (w_qs): Linear(262.14 k, 3.316% Params, 134.22 MMac, 5.733% MACs, in_features=512, out_features=512, bias=False)\n",
      "        (w_ks): Linear(262.14 k, 3.316% Params, 134.22 MMac, 5.733% MACs, in_features=512, out_features=512, bias=False)\n",
      "        (w_vs): Linear(262.14 k, 3.316% Params, 134.22 MMac, 5.733% MACs, in_features=512, out_features=512, bias=False)\n",
      "      )\n",
      "      (1): MyAttention2(\n",
      "        1.44 M, 18.259% Params, 184.83 MMac, 7.895% MACs, \n",
      "        (fc1): Linear(66.05 k, 0.835% Params, 8.45 MMac, 0.361% MACs, in_features=128, out_features=512, bias=True)\n",
      "        (fc2): Linear(65.66 k, 0.831% Params, 8.4 MMac, 0.359% MACs, in_features=512, out_features=128, bias=True)\n",
      "        (fc_gamma): Sequential(\n",
      "          525.31 k, 6.645% Params, 67.31 MMac, 2.875% MACs, \n",
      "          (0): Linear(262.66 k, 3.322% Params, 33.62 MMac, 1.436% MACs, in_features=512, out_features=512, bias=True)\n",
      "          (1): ReLU(0, 0.000% Params, 65.54 KMac, 0.003% MACs, )\n",
      "          (2): Linear(262.66 k, 3.322% Params, 33.62 MMac, 1.436% MACs, in_features=512, out_features=512, bias=True)\n",
      "        )\n",
      "        (w_qs): Linear(262.14 k, 3.316% Params, 33.55 MMac, 1.433% MACs, in_features=512, out_features=512, bias=False)\n",
      "        (w_ks): Linear(262.14 k, 3.316% Params, 33.55 MMac, 1.433% MACs, in_features=512, out_features=512, bias=False)\n",
      "        (w_vs): Linear(262.14 k, 3.316% Params, 33.55 MMac, 1.433% MACs, in_features=512, out_features=512, bias=False)\n",
      "      )\n",
      "      (2): MyAttention2(\n",
      "        1.57 M, 19.918% Params, 50.41 MMac, 2.153% MACs, \n",
      "        (fc1): Linear(131.58 k, 1.664% Params, 4.21 MMac, 0.180% MACs, in_features=256, out_features=512, bias=True)\n",
      "        (fc2): Linear(131.33 k, 1.661% Params, 4.2 MMac, 0.180% MACs, in_features=512, out_features=256, bias=True)\n",
      "        (fc_gamma): Sequential(\n",
      "          525.31 k, 6.645% Params, 16.83 MMac, 0.719% MACs, \n",
      "          (0): Linear(262.66 k, 3.322% Params, 8.4 MMac, 0.359% MACs, in_features=512, out_features=512, bias=True)\n",
      "          (1): ReLU(0, 0.000% Params, 16.38 KMac, 0.001% MACs, )\n",
      "          (2): Linear(262.66 k, 3.322% Params, 8.4 MMac, 0.359% MACs, in_features=512, out_features=512, bias=True)\n",
      "        )\n",
      "        (w_qs): Linear(262.14 k, 3.316% Params, 8.39 MMac, 0.358% MACs, in_features=512, out_features=512, bias=False)\n",
      "        (w_ks): Linear(262.14 k, 3.316% Params, 8.39 MMac, 0.358% MACs, in_features=512, out_features=512, bias=False)\n",
      "        (w_vs): Linear(262.14 k, 3.316% Params, 8.39 MMac, 0.358% MACs, in_features=512, out_features=512, bias=False)\n",
      "      )\n",
      "      (3): MyAttention2(\n",
      "        1.84 M, 23.237% Params, 14.7 MMac, 0.628% MACs, \n",
      "        (fc1): Linear(262.66 k, 3.322% Params, 2.1 MMac, 0.090% MACs, in_features=512, out_features=512, bias=True)\n",
      "        (fc2): Linear(262.66 k, 3.322% Params, 2.1 MMac, 0.090% MACs, in_features=512, out_features=512, bias=True)\n",
      "        (fc_gamma): Sequential(\n",
      "          525.31 k, 6.645% Params, 4.21 MMac, 0.180% MACs, \n",
      "          (0): Linear(262.66 k, 3.322% Params, 2.1 MMac, 0.090% MACs, in_features=512, out_features=512, bias=True)\n",
      "          (1): ReLU(0, 0.000% Params, 4.1 KMac, 0.000% MACs, )\n",
      "          (2): Linear(262.66 k, 3.322% Params, 2.1 MMac, 0.090% MACs, in_features=512, out_features=512, bias=True)\n",
      "        )\n",
      "        (w_qs): Linear(262.14 k, 3.316% Params, 2.1 MMac, 0.090% MACs, in_features=512, out_features=512, bias=False)\n",
      "        (w_ks): Linear(262.14 k, 3.316% Params, 2.1 MMac, 0.090% MACs, in_features=512, out_features=512, bias=False)\n",
      "        (w_vs): Linear(262.14 k, 3.316% Params, 2.1 MMac, 0.090% MACs, in_features=512, out_features=512, bias=False)\n",
      "      )\n",
      "    )\n",
      "    (tome_further_downsample): ModuleList(\n",
      "      (0-3): 4 x Merge(0, 0.000% Params, 0.0 Mac, 0.000% MACs, )\n",
      "    )\n",
      "  )\n",
      "  (fc2): Sequential(\n",
      "    150.38 k, 1.902% Params, 150.7 KMac, 0.006% MACs, \n",
      "    (0): Linear(131.33 k, 1.661% Params, 131.33 KMac, 0.006% MACs, in_features=512, out_features=256, bias=True)\n",
      "    (1): ReLU(0, 0.000% Params, 256.0 Mac, 0.000% MACs, )\n",
      "    (2): Linear(16.45 k, 0.208% Params, 16.45 KMac, 0.001% MACs, in_features=256, out_features=64, bias=True)\n",
      "    (3): ReLU(0, 0.000% Params, 64.0 Mac, 0.000% MACs, )\n",
      "    (4): Linear(2.6 k, 0.033% Params, 2.6 KMac, 0.000% MACs, in_features=64, out_features=40, bias=True)\n",
      "  )\n",
      ")\n",
      "2.34 GMac\n"
     ]
    }
   ],
   "source": [
    "model, _ = get_model(\n",
    "    \"pt\", \n",
    "    \"tome_xyz\", \n",
    "    1024,\n",
    "    40,\n",
    "    3,\n",
    "    32,\n",
    "    16,  \n",
    "    device\n",
    ")\n",
    "\n",
    "input_tensor = torch.rand(32, 1024, 3).to(device)\n",
    "flops, params = get_model_complexity_info(model, (1024, 3), as_strings=True, print_per_layer_stat=True)\n",
    "\n",
    "# print('FLOPs:', flops)\n",
    "# print('Parameters:', params)\n",
    "\n",
    "print(flops)"
   ]
  },
  {
   "cell_type": "code",
   "execution_count": 6,
   "metadata": {},
   "outputs": [
    {
     "name": "stdout",
     "output_type": "stream",
     "text": [
      "1.0\n",
      "1.0\n",
      "1.0\n",
      "1.0\n",
      "1.0\n",
      "initing tome with downsampling factor = 1.0 and use_xyz = False\n",
      "initing tome with downsampling factor = 1.0 and use_xyz = False\n",
      "initing tome with downsampling factor = 1.0 and use_xyz = False\n",
      "initing tome with downsampling factor = 1.0 and use_xyz = False\n",
      "1.0\n",
      "initing tome with downsampling factor = 1.0 and use_xyz = False\n",
      "initing tome with downsampling factor = 1.0 and use_xyz = False\n",
      "initing tome with downsampling factor = 1.0 and use_xyz = False\n",
      "initing tome with downsampling factor = 1.0 and use_xyz = False\n",
      "1.0\n",
      "initing tome with downsampling factor = 1.0 and use_xyz = False\n",
      "initing tome with downsampling factor = 1.0 and use_xyz = False\n",
      "initing tome with downsampling factor = 1.0 and use_xyz = False\n",
      "initing tome with downsampling factor = 1.0 and use_xyz = False\n",
      "1.0\n",
      "initing tome with downsampling factor = 1.0 and use_xyz = False\n",
      "initing tome with downsampling factor = 1.0 and use_xyz = False\n",
      "initing tome with downsampling factor = 1.0 and use_xyz = False\n",
      "initing tome with downsampling factor = 1.0 and use_xyz = False\n"
     ]
    }
   ],
   "source": [
    "\n",
    "time_dict = dict()\n",
    "\n",
    "for model_name in [\"pct\", \"pt\"]:\n",
    "    time_dict[model_name] = dict()\n",
    "\n",
    "    if model_name == \"pct\":\n",
    "        hidden_size = 64\n",
    "        k = 32\n",
    "    else:\n",
    "        hidden_size = 32\n",
    "        k = 16\n",
    "\n",
    "    for strat,downsample in product([\"normal\", \"tome_ft\", \"tome_xyz\", \"random\"],[0.0]):\n",
    "        model, _ = get_model(\n",
    "            model_name=model_name, \n",
    "            method=strat, \n",
    "            num_points=1024,\n",
    "            num_class=40,\n",
    "            input_dim=3,\n",
    "            init_hidden_dim=hidden_size,\n",
    "            k=k,  \n",
    "            device=device,\n",
    "            # further_ds=downsample\n",
    "        )\n",
    "\n",
    "        N = 7\n",
    "        times = list()\n",
    "        for i in range(N):\n",
    "            input = torch.rand(16, 1024, 3).to(device)\n",
    "            start = time.time()\n",
    "            model(input)\n",
    "            end = time.time()\n",
    "            times.append(end - start)\n",
    "\n",
    "        times = np.array(times)\n",
    "        time_dict[model_name][strat] = times\n",
    "            "
   ]
  },
  {
   "cell_type": "code",
   "execution_count": 7,
   "metadata": {},
   "outputs": [
    {
     "data": {
      "image/png": "[encoded data removed]",
      "text/plain": [
       "<Figure size 640x480 with 1 Axes>"
      ]
     },
     "metadata": {},
     "output_type": "display_data"
    }
   ],
   "source": [
    "melted = pd.DataFrame(time_dict).reset_index().melt(id_vars = 'index').explode(column='value').reset_index(drop=True)\n",
    "melted \n",
    "ax = sns.barplot(melted[melted['variable'] == 'pct'],x='index',y='value')\n",
    "ax.set(xlabel='strategy', ylabel='time (seconds)')\n",
    "ax.set(title=f'A comparison of speeds for PCT on {device}')\n",
    "ax.get_figure().savefig(f'figures/prune_speeds_pct_{device}.png')"
   ]
  },
  {
   "cell_type": "code",
   "execution_count": 8,
   "metadata": {},
   "outputs": [
    {
     "data": {
      "image/png": "[encoded data removed]",
      "text/plain": [
       "<Figure size 640x480 with 1 Axes>"
      ]
     },
     "metadata": {},
     "output_type": "display_data"
    }
   ],
   "source": [
    "ax = sns.barplot(melted[melted['variable'] == 'pt'],x='index',y='value')\n",
    "ax.set(xlabel='strategy', ylabel='time (seconds)')\n",
    "ax.set(title=f'A comparison of speeds for PT on {device}')\n",
    "ax.get_figure().savefig(f'figures/prune_speeds_pt_{device}.png')"
   ]
  },
  {
   "cell_type": "code",
   "execution_count": 85,
   "metadata": {},
   "outputs": [
    {
     "name": "stderr",
     "output_type": "stream",
     "text": [
      "  0%|          | 0/6 [00:00<?, ?it/s]"
     ]
    },
    {
     "name": "stdout",
     "output_type": "stream",
     "text": [
      "1.0\n"
     ]
    },
    {
     "name": "stderr",
     "output_type": "stream",
     "text": [
      " 17%|█▋        | 1/6 [00:07<00:36,  7.39s/it]"
     ]
    },
    {
     "name": "stdout",
     "output_type": "stream",
     "text": [
      "0.85\n",
      "initing tome with downsampling factor = 0.85 and use_xyz = False\n",
      "initing tome with downsampling factor = 0.85 and use_xyz = False\n"
     ]
    },
    {
     "name": "stderr",
     "output_type": "stream",
     "text": [
      " 33%|███▎      | 2/6 [00:14<00:27,  6.98s/it]"
     ]
    },
    {
     "name": "stdout",
     "output_type": "stream",
     "text": [
      "0.7\n",
      "initing tome with downsampling factor = 0.7 and use_xyz = False\n",
      "initing tome with downsampling factor = 0.7 and use_xyz = False\n"
     ]
    },
    {
     "name": "stderr",
     "output_type": "stream",
     "text": [
      " 50%|█████     | 3/6 [00:20<00:19,  6.66s/it]"
     ]
    },
    {
     "name": "stdout",
     "output_type": "stream",
     "text": [
      "1.0\n"
     ]
    },
    {
     "name": "stderr",
     "output_type": "stream",
     "text": [
      " 67%|██████▋   | 4/6 [00:21<00:08,  4.29s/it]"
     ]
    },
    {
     "name": "stdout",
     "output_type": "stream",
     "text": [
      "0.85\n",
      "initing tome with downsampling factor = 0.85 and use_xyz = False\n",
      "initing tome with downsampling factor = 0.85 and use_xyz = False\n"
     ]
    },
    {
     "name": "stderr",
     "output_type": "stream",
     "text": [
      " 83%|████████▎ | 5/6 [00:21<00:02,  2.94s/it]"
     ]
    },
    {
     "name": "stdout",
     "output_type": "stream",
     "text": [
      "0.7\n",
      "initing tome with downsampling factor = 0.7 and use_xyz = False\n",
      "initing tome with downsampling factor = 0.7 and use_xyz = False\n"
     ]
    },
    {
     "name": "stderr",
     "output_type": "stream",
     "text": [
      "100%|██████████| 6/6 [00:22<00:00,  3.67s/it]\n",
      "  0%|          | 0/6 [00:00<?, ?it/s]"
     ]
    },
    {
     "name": "stdout",
     "output_type": "stream",
     "text": [
      "1.0\n",
      "initing tome with downsampling factor = 1.0 and use_xyz = False\n",
      "initing tome with downsampling factor = 1.0 and use_xyz = False\n",
      "initing tome with downsampling factor = 1.0 and use_xyz = False\n",
      "initing tome with downsampling factor = 1.0 and use_xyz = False\n"
     ]
    },
    {
     "name": "stderr",
     "output_type": "stream",
     "text": [
      " 17%|█▋        | 1/6 [00:18<01:30, 18.20s/it]"
     ]
    },
    {
     "name": "stdout",
     "output_type": "stream",
     "text": [
      "0.85\n",
      "initing tome with downsampling factor = 0.85 and use_xyz = False\n",
      "initing tome with downsampling factor = 0.85 and use_xyz = False\n",
      "initing tome with downsampling factor = 0.85 and use_xyz = False\n",
      "initing tome with downsampling factor = 0.85 and use_xyz = False\n"
     ]
    },
    {
     "name": "stderr",
     "output_type": "stream",
     "text": [
      " 33%|███▎      | 2/6 [00:35<01:10, 17.65s/it]"
     ]
    },
    {
     "name": "stdout",
     "output_type": "stream",
     "text": [
      "0.7\n",
      "initing tome with downsampling factor = 0.7 and use_xyz = False\n",
      "initing tome with downsampling factor = 0.7 and use_xyz = False\n",
      "initing tome with downsampling factor = 0.7 and use_xyz = False\n",
      "initing tome with downsampling factor = 0.7 and use_xyz = False\n"
     ]
    },
    {
     "name": "stderr",
     "output_type": "stream",
     "text": [
      " 50%|█████     | 3/6 [00:52<00:51, 17.25s/it]"
     ]
    },
    {
     "name": "stdout",
     "output_type": "stream",
     "text": [
      "1.0\n",
      "initing tome with downsampling factor = 1.0 and use_xyz = False\n",
      "initing tome with downsampling factor = 1.0 and use_xyz = False\n",
      "initing tome with downsampling factor = 1.0 and use_xyz = False\n",
      "initing tome with downsampling factor = 1.0 and use_xyz = False\n"
     ]
    },
    {
     "name": "stderr",
     "output_type": "stream",
     "text": [
      " 67%|██████▋   | 4/6 [00:53<00:22, 11.05s/it]"
     ]
    },
    {
     "name": "stdout",
     "output_type": "stream",
     "text": [
      "0.85\n",
      "initing tome with downsampling factor = 0.85 and use_xyz = False\n",
      "initing tome with downsampling factor = 0.85 and use_xyz = False\n",
      "initing tome with downsampling factor = 0.85 and use_xyz = False\n",
      "initing tome with downsampling factor = 0.85 and use_xyz = False\n"
     ]
    },
    {
     "name": "stderr",
     "output_type": "stream",
     "text": [
      " 83%|████████▎ | 5/6 [00:55<00:07,  7.53s/it]"
     ]
    },
    {
     "name": "stdout",
     "output_type": "stream",
     "text": [
      "0.7\n",
      "initing tome with downsampling factor = 0.7 and use_xyz = False\n",
      "initing tome with downsampling factor = 0.7 and use_xyz = False\n",
      "initing tome with downsampling factor = 0.7 and use_xyz = False\n",
      "initing tome with downsampling factor = 0.7 and use_xyz = False\n"
     ]
    },
    {
     "name": "stderr",
     "output_type": "stream",
     "text": [
      "100%|██████████| 6/6 [00:56<00:00,  9.39s/it]\n"
     ]
    }
   ],
   "source": [
    "device='cpu'\n",
    "rows = []\n",
    "for model_name in [\"pct\", \"pt\"]:\n",
    "    # time_dict2[model_name] = dict()\n",
    "\n",
    "    if model_name == \"pct\":\n",
    "        hidden_size = 64\n",
    "        k = 32\n",
    "    else:\n",
    "        hidden_size = 32\n",
    "        k = 16\n",
    "\n",
    "    for strat,downsample in tqdm(product([\"normal\", \"tome_ft\",],[0.0, 0.15, 0.3]),total=6):\n",
    "        model, _ = get_model(\n",
    "            model_name=model_name, \n",
    "            method=strat, \n",
    "            num_points=1024,\n",
    "            num_class=40,\n",
    "            input_dim=3,\n",
    "            init_hidden_dim=hidden_size,\n",
    "            k=k,  \n",
    "            device=device,\n",
    "            further_ds=downsample\n",
    "        )\n",
    "\n",
    "        input_tensor = torch.rand(32, 1024, 3).to(device)\n",
    "        flops, params = get_model_complexity_info(model, (1024, 3), as_strings=False, print_per_layer_stat=False)\n",
    "\n",
    "\n",
    "        N = 7\n",
    "        times = list()\n",
    "        for i in range(N):\n",
    "            input = torch.rand(16, 1024, 3).to(device)\n",
    "            start = time.time()\n",
    "            model(input)\n",
    "            end = time.time()\n",
    "            # times.append(end - start)\n",
    "\n",
    "            rows.append({\n",
    "                'model':model_name, \n",
    "                'strategy':strat,\n",
    "                'downsample':downsample,\n",
    "                'flops':flops,\n",
    "                # 'params':params,\n",
    "                'time':end - start,\n",
    "            })"
   ]
  },
  {
   "cell_type": "code",
   "execution_count": 86,
   "metadata": {},
   "outputs": [
    {
     "name": "stderr",
     "output_type": "stream",
     "text": [
      "/tmp/ipykernel_938950/2559260792.py:9: FutureWarning: Setting an item of incompatible dtype is deprecated and will raise an error in a future version of pandas. Value '[1.         1.         1.         1.         1.         1.\n",
      " 1.         0.85862119 0.85862119 0.85862119 0.85862119 0.85862119\n",
      " 0.85862119 0.85862119 0.72494785 0.72494785 0.72494785 0.72494785\n",
      " 0.72494785 0.72494785 0.72494785 0.25514484 0.25514484 0.25514484\n",
      " 0.25514484 0.25514484 0.25514484 0.25514484 0.18710249 0.18710249\n",
      " 0.18710249 0.18710249 0.18710249 0.18710249 0.18710249 0.12871094\n",
      " 0.12871094 0.12871094 0.12871094 0.12871094 0.12871094 0.12871094]' has dtype incompatible with int64, please explicitly cast to a compatible dtype first.\n",
      "  df_sample.loc[df_sample.model == 'pct',['time','flops']] = df_sample[df_sample.model == 'pct'][['time','flops']] / bases_pct\n"
     ]
    }
   ],
   "source": [
    "df_sample = pd.DataFrame(rows)\n",
    "bases_pct = df_sample[(df_sample.model == 'pct') & (df_sample.strategy == 'normal') & (df_sample.downsample == 0.00)]\n",
    "bases_pct = bases_pct[['time','flops',]].mean()\n",
    "\n",
    "bases_pt = df_sample[(df_sample.model == 'pt') & (df_sample.strategy == 'normal') & (df_sample.downsample == 0.00)]\n",
    "bases_pt = bases_pt[['time','flops']].mean()\n",
    "bases_pt\n",
    "\n",
    "df_sample.loc[df_sample.model == 'pct',['time','flops']] = df_sample[df_sample.model == 'pct'][['time','flops']] / bases_pct\n",
    "df_sample.loc[df_sample.model == 'pt',['time','flops']] = df_sample[df_sample.model == 'pt'][['time','flops']] / bases_pt\n",
    "\n"
   ]
  },
  {
   "cell_type": "code",
   "execution_count": 88,
   "metadata": {},
   "outputs": [
    {
     "name": "stderr",
     "output_type": "stream",
     "text": [
      "/tmp/ipykernel_938950/3873372223.py:6: UserWarning: set_ticklabels() should only be used with a fixed number of ticks, i.e. after set_ticks() or using a FixedLocator.\n",
      "  ax.set_xticklabels(\n"
     ]
    },
    {
     "name": "stdout",
     "output_type": "stream",
     "text": [
      "\n"
     ]
    },
    {
     "data": {
      "image/png": "[encoded data removed]",
      "text/plain": [
       "<Figure size 640x480 with 1 Axes>"
      ]
     },
     "metadata": {},
     "output_type": "display_data"
    }
   ],
   "source": [
    "# melted2 = pd.DataFrame(time_dict2).reset_index().rename(columns={'level_0':'agg','level_1':'downsample'}).explode(column=['pct','pt']).melt(id_vars = ['agg','downsample']).rename(columns={'value':'Time'})#.explode(column='value').reset_index(drop=True)\n",
    "melted2 = df_sample.rename(columns={'strategy':'agg'}).melt(id_vars=['model','agg','downsample'])\n",
    "melted2['Merging and Downsampling strategy'] = melted2.apply((lambda row: (f'{row[\"agg\"]}, {row[\"downsample\"]}')),axis=1)\n",
    "ax = sns.barplot(melted2[melted2['model'] == 'pct'],x='Merging and Downsampling strategy',y='value',hue='variable')\n",
    "ax.set(title=f'Further-downsampling further improves efficency')\n",
    "ax.set_xticklabels(\n",
    "    ax.get_xticklabels(), \n",
    "    rotation=20, \n",
    "    horizontalalignment='right'\n",
    ")\n",
    "ax.get_figure().tight_layout()\n",
    "ax.get_figure().savefig(f'figures/downsample_speeds_pct_{device}.png')\n",
    "print()\n",
    "# melted2"
   ]
  },
  {
   "cell_type": "code",
   "execution_count": 46,
   "metadata": {},
   "outputs": [
    {
     "name": "stderr",
     "output_type": "stream",
     "text": [
      "/tmp/ipykernel_938950/1976147840.py:4: UserWarning: set_ticklabels() should only be used with a fixed number of ticks, i.e. after set_ticks() or using a FixedLocator.\n",
      "  ax.set_xticklabels(\n"
     ]
    },
    {
     "name": "stdout",
     "output_type": "stream",
     "text": [
      "\n"
     ]
    },
    {
     "data": {
      "image/png": "[encoded data removed]",
      "text/plain": [
       "<Figure size 640x480 with 1 Axes>"
      ]
     },
     "metadata": {},
     "output_type": "display_data"
    }
   ],
   "source": [
    "# ax.set(xlabel='strategy', ylabel='time (seconds)')\n",
    "ax = sns.barplot(melted2[melted2['variable'] == 'pt'],x='Merging and Downsampling strategy',y='Time')\n",
    "ax.set(title=f'A comparison of speeds for PCT on {device}')\n",
    "ax.set_xticklabels(\n",
    "    ax.get_xticklabels(), \n",
    "    rotation=30, \n",
    "    horizontalalignment='right'\n",
    ")\n",
    "ax.get_figure().tight_layout()\n",
    "ax.get_figure().savefig(f'figures/downsample_speeds_pt_{device}.png')\n",
    "print()"
   ]
  },
  {
   "cell_type": "code",
   "execution_count": null,
   "metadata": {},
   "outputs": [],
   "source": []
  }
 ],
 "metadata": {
  "kernelspec": {
   "display_name": "sys_genai",
   "language": "python",
   "name": "python3"
  },
  "language_info": {
   "codemirror_mode": {
    "name": "ipython",
    "version": 3
   },
   "file_extension": ".py",
   "mimetype": "text/x-python",
   "name": "python",
   "nbconvert_exporter": "python",
   "pygments_lexer": "ipython3",
   "version": "3.10.12"
  },
  "orig_nbformat": 4
 },
 "nbformat": 4,
 "nbformat_minor": 2
}
